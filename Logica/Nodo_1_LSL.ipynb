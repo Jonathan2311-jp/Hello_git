{
  "nbformat": 4,
  "nbformat_minor": 0,
  "metadata": {
    "colab": {
      "provenance": []
    },
    "kernelspec": {
      "name": "python3",
      "display_name": "Python 3"
    },
    "language_info": {
      "name": "python"
    }
  },
  "cells": [
    {
      "cell_type": "code",
      "execution_count": 3,
      "metadata": {
        "id": "3vx8o_tW1jsF"
      },
      "outputs": [],
      "source": [
        "# Crear una LSL con el nodo\n",
        "# Estrutura nodal : dato1,dato2, siguiente\n",
        "\n",
        "class Nodo:\n",
        "  def __init__(self,valor1,valor2):\n",
        "    self.dato1= valor1  # INgresar el valor de la LSL\n",
        "    self.dato2= valor2  # INgresar el valor de la LSL\n",
        "    self.siguiente= None # Valor nulo (Aumentar o disminuir)"
      ]
    },
    {
      "cell_type": "code",
      "source": [
        "# Crear la lista\n",
        "class LSL:\n",
        "  def __init__(self):\n",
        "    self.inicio= None\n",
        "# Insertar al final de la lista\n",
        "  def insertar(self,valor1,valor2):\n",
        "    if self.inicio is None:   # Si la lista esta vacia, este seria el primer nodo\n",
        "       self.inicio= Nodo(valor1,valor2) # Actualizo la lista con el primer nodo\n",
        "    else:                           # Si la lista noe sta vacia\n",
        "      nodo_actual= self.inicio # Me ubico en el primer nodo para recorrer hasta el ultimo\n",
        "      while nodo_actual.siguiente is not None: #  recorro la lista hasta el donde el nodo actual este none\n",
        "        nodo_actual= nodo_actual.siguiente  # Se mueve al sigueinte nodo\n",
        "      nodo_actual.siguiente= Nodo(valor1,valor2) # Actualizo la liga del ultimo nodo apuntando al nodo\n",
        "\n",
        "# Mostrar la lista\n",
        "  def mostrar(self):\n",
        "    if self.inicio is None:\n",
        "      print(\"Lista vacia\")\n",
        "    else:\n",
        "      nodo_actual= self.inicio\n",
        "      while nodo_actual is not None:\n",
        "        print(f\"({nodo_actual.dato1},{nodo_actual.dato2})\",end=\"->\")\n",
        "        nodo_actual= nodo_actual.siguiente\n",
        "      print(\"None\")\n",
        "\n",
        "# Eliminar el ultimo de la lista en LSL\n",
        "\n",
        "  def eliminar(self,valor1):\n",
        "        nodo_actual= self.inicio # Me ubico en el primero\n",
        "        ant_nodo_actual= None  # Me ubico en el anterior\n",
        "        while nodo_actual.siguiente is not None: # Llegar al ultimo y conocer el anterior\n",
        "          ant_nodo_actual= nodo_actual\n",
        "          nodo_actual= nodo_actual.siguiente # Me ubico al naterior\n",
        "        if ant_nodo_actual is None:\n",
        "          ant_nodo_actual= nodo_actual.siguiente\n",
        "        print(\"Lista vacia\")"
      ],
      "metadata": {
        "id": "0S4gQpo2pF1w"
      },
      "execution_count": 29,
      "outputs": []
    },
    {
      "cell_type": "code",
      "source": [
        "# Prueba de creacion de LSL\n",
        "# Crear lista\n",
        "lista_1= LSL()\n",
        "lista_1.insertar(1,2)\n",
        "lista_1.insertar(3,4)\n",
        "lista_1.insertar(5,6)\n",
        "lista_1.mostrar()\n",
        "lista_1.eliminar(1)\n",
        "lista_1.mostrar()"
      ],
      "metadata": {
        "colab": {
          "base_uri": "https://localhost:8080/"
        },
        "id": "PEAId6D7sHZz",
        "outputId": "2797c2bc-79f4-43cb-d2ac-7690bf8c6344"
      },
      "execution_count": 30,
      "outputs": [
        {
          "output_type": "stream",
          "name": "stdout",
          "text": [
            "(1,2)->(3,4)->(5,6)->None\n"
          ]
        }
      ]
    },
    {
      "cell_type": "markdown",
      "source": [
        "# Eliminar con datos salarios"
      ],
      "metadata": {
        "id": "fPUt3HJr9SL_"
      }
    },
    {
      "cell_type": "code",
      "source": [
        "# Li (Liga izquierda)\n",
        "class Nodo_3:\n",
        "  def __init__(self,identificacion,edad,salario):\n",
        "    self.identificacion= identificacion\n",
        "    self.edad= edad\n",
        "    self.salario= salario\n",
        "    self.li= None"
      ],
      "metadata": {
        "id": "T7mlkGf09YKp"
      },
      "execution_count": 33,
      "outputs": []
    },
    {
      "cell_type": "code",
      "source": [
        "class LSL_3:\n",
        "  def __init__(self):\n",
        "    self.primero= None\n",
        "\n",
        "  def insertar(self,identificacion,edad,salario):\n",
        "    nuevo_nodo=Nodo_3(identificacion,edad,salario)\n",
        "    if self.primero is None:\n",
        "      self.primero= nuevo_nodo\n",
        "    else:\n",
        "      nodo_actual= self.primero\n",
        "      while nodo_actual.li is not None:\n",
        "        nodo_actual= nodo_actual.li\n",
        "      nodo_actual.li= nuevo_nodo\n",
        "#######################################################################\n",
        "  def mostrar(self):\n",
        "    if self.primero is None:\n",
        "      print(\"Lista vacia\")\n",
        "    else:\n",
        "      nodo= self.primero\n",
        "      contador=1\n",
        "      while nodo is not None:\n",
        "        print(f\"Con:{contador}:{nodo.identificacion},{nodo.edad},{nodo.salario}\" ,end=\"->\")\n",
        "        contador+=1\n",
        "        nodo= nodo.li\n",
        "      print(\"None\")\n",
        "#############################################################################\n",
        "  def eliminar(self,identificacion):\n",
        "    if self.primero is None:\n",
        "      print(\"Lista vacia\")\n",
        "      return\n",
        "    # Si elimino el primero\n",
        "    if self.primero.identificacion== identificacion:\n",
        "        self.primero= self.primero.li # copia el primero\n",
        "        return\n",
        "    anterior_nodo= self.primero\n",
        "    nodo_actual= self.primero.li\n",
        "    while nodo_actual is not None:\n",
        "      if nodo_actual.identificacion== identificacion:\n",
        "        print(f\" Encontrado: {nodo_actual.identificacion}\")\n",
        "        anterior_nodo.li= nodo_actual.li\n",
        "        return\n",
        "      anterior_nodo= nodo_actual\n",
        "      nodo_actual= nodo_actual.li\n",
        "    if nodo_actual is None:\n",
        "      print(\"No se encontro el nodo\")\n",
        "\n",
        " #def intercambiar_2(self,nodo1,nodo2):\n",
        "  #  nodo1.identificacion,nodo2.identificacion= nodo2.identificacion,nodo1.identificacion\n",
        "   # nodo1.edad,nodo2.edad= nodo2.edad,nodo1.edad\n",
        "    #nodo1.salario,nodo2.salario= nodo2.salario,nodo1.salario\n",
        "\n",
        "  def intercambiar_3(self,nodo1,nodo2):\n",
        "    nodo1.identificacion, nodo2.identificacion = nodo2.identificacion, nodo1.identificacion\n",
        "    nodo1.edad, nodo2.edad = nodo2.edad, nodo1.edad\n",
        "    nodo1.salario, nodo2.salario = nodo2.salario, nodo1.salario\n",
        "\n",
        "  def ordenamiento_burbuja(self):\n",
        "    if self.primero is None or self.primero.li is None:\n",
        "      print(\"Lista vacia\")\n",
        "      return\n",
        "    cambio= True\n",
        "    while cambio:\n",
        "      cambio= False\n",
        "      nodo_actual= self.primero\n",
        "      while nodo_actual.li is not None:\n",
        "        if nodo_actual.identificacion> nodo_actual.li.identificacion:\n",
        "          self.intercambiar_3(nodo_actual,nodo_actual.li)\n",
        "          cambio= True\n",
        "        nodo_actual= nodo_actual.li"
      ],
      "metadata": {
        "id": "KMhVAIsv9pPX"
      },
      "execution_count": 104,
      "outputs": []
    },
    {
      "cell_type": "code",
      "source": [
        "colaboradores= LSL_3()\n",
        "colaboradores.insertar(100,35,4000000)\n",
        "colaboradores.insertar(71,40,5000000)\n",
        "colaboradores.insertar(22,55,6000000)\n",
        "colaboradores.insertar(43,45,6000000)\n",
        "colaboradores.mostrar()\n",
        "#colaboradores.eliminar(71)\n",
        "#colaboradores.mostrar()\n",
        "colaboradores.intercambiar_3(colaboradores.primero,colaboradores.primero.li)\n",
        "colaboradores.mostrar()\n",
        "colaboradores.ordenamiento_burbuja()\n",
        "colaboradores.mostrar()\n"
      ],
      "metadata": {
        "colab": {
          "base_uri": "https://localhost:8080/"
        },
        "id": "QBWdi_9d-lN7",
        "outputId": "6a1e3308-2200-4f72-b525-b2959a6e80de"
      },
      "execution_count": 105,
      "outputs": [
        {
          "output_type": "stream",
          "name": "stdout",
          "text": [
            "Con:1:100,35,4000000->Con:2:71,40,5000000->Con:3:22,55,6000000->Con:4:43,45,6000000->None\n",
            "Con:1:71,40,5000000->Con:2:100,35,4000000->Con:3:22,55,6000000->Con:4:43,45,6000000->None\n",
            "Con:1:22,55,6000000->Con:2:43,45,6000000->Con:3:71,40,5000000->Con:4:100,35,4000000->None\n"
          ]
        }
      ]
    }
  ]
}