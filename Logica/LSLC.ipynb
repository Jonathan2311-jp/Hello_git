{
  "nbformat": 4,
  "nbformat_minor": 0,
  "metadata": {
    "colab": {
      "provenance": []
    },
    "kernelspec": {
      "name": "python3",
      "display_name": "Python 3"
    },
    "language_info": {
      "name": "python"
    }
  },
  "cells": [
    {
      "cell_type": "code",
      "execution_count": 45,
      "metadata": {
        "id": "k-nK9yGfec8e"
      },
      "outputs": [],
      "source": [
        "# Listas Simplemente Ligada Circular (LSLC)\n",
        "# Polinomios\n",
        "\n",
        "class NodoLSLC:\n",
        "    def __init__(self, co,exp):\n",
        "      self.co = co\n",
        "      self.exp = exp\n",
        "      self.siguiente = None\n",
        "\n",
        "class polinomioLSLC:\n",
        "  def __init__(self):\n",
        "    self.primero = None\n",
        "\n",
        "  def insertar(self, co,exp):\n",
        "    nuevo_nodo = NodoLSLC(co,exp)\n",
        "    if self.primero is None:\n",
        "      self.primero = nuevo_nodo\n",
        "      nuevo_nodo.siguiente = nuevo_nodo\n",
        "      return\n",
        "    actual = self.primero\n",
        "    while actual.siguiente != self.primero:\n",
        "      actual = actual.siguiente\n",
        "    actual.siguiente = nuevo_nodo\n",
        "    nuevo_nodo.siguiente = self.primero\n",
        "\n",
        "  def mostrar(self):\n",
        "    if self.primero is None:\n",
        "      print(\"La lista está vacía\")\n",
        "      return\n",
        "    actual = self.primero\n",
        "    while True:\n",
        "      print(f\"{actual.co} X^{actual.exp}\")\n",
        "      actual = actual.siguiente\n",
        "      if actual == self.primero:\n",
        "        break\n",
        "    return\n",
        "\n",
        "\n",
        "  def sumar_untermino(self, otro_polinomio):\n",
        "      resultado = polinomioLSLC()\n",
        "      actual1 = self.primero\n",
        "      actual2 = otro_polinomio.primero\n",
        "      #while actual1.siguiente != self.primero:\n",
        "      resultado.insertar(actual1.co+actual2.co,actual1.exp)\n",
        "      #  actual1=actual1.siguiente\n",
        "      #  actual2=actual2.siguiente\n",
        "      return resultado\n",
        "\n",
        "  def sumar_varios_terminos(self, otro_polinomio):\n",
        "      resultado = polinomioLSLC()\n",
        "      actual1 = self.primero\n",
        "      actual2 = otro_polinomio.primero\n",
        "      while actual1.siguiente != self.primero:\n",
        "        resultado.insertar(actual1.co+actual2.co,actual1.exp)\n",
        "        actual1=actual1.siguiente\n",
        "        actual2=actual2.siguiente\n",
        "      resultado.insertar(actual1.co+actual2.co,actual1.exp)\n",
        "      return resultado"
      ]
    },
    {
      "cell_type": "code",
      "source": [
        "p1 = polinomioLSLC()\n",
        "p2 = polinomioLSLC()\n",
        "p1.insertar(-8,3)\n",
        "p2.insertar(-45,3)\n",
        "p1.mostrar()\n",
        "p2.mostrar()\n",
        "p3= polinomioLSLC()\n",
        "p3=p1.sumar_untermino(p2)\n",
        "p3.mostrar()\n"
      ],
      "metadata": {
        "colab": {
          "base_uri": "https://localhost:8080/"
        },
        "id": "183JqxU6mS_N",
        "outputId": "56d3607a-641d-41d6-8c40-1eef9fc67cb1"
      },
      "execution_count": 37,
      "outputs": [
        {
          "output_type": "stream",
          "name": "stdout",
          "text": [
            "Coeficiente: -8 X^: 3\n",
            "Coeficiente: -45 X^: 3\n",
            "Coeficiente: -53 X^: 3\n"
          ]
        }
      ]
    },
    {
      "cell_type": "code",
      "source": [
        "# Ingresar dos polinomios y sumarlos cada uno representado en LSLC :-2x3  y 1x3"
      ],
      "metadata": {
        "id": "tQefj79tnn5G"
      },
      "execution_count": null,
      "outputs": []
    },
    {
      "cell_type": "code",
      "source": [
        "p1 = polinomioLSLC()\n",
        "p2 = polinomioLSLC()\n",
        "p3= polinomioLSLC()\n",
        "p1.insertar(2,3)\n",
        "p1.insertar(-4,2)\n",
        "p1.insertar(5,1)\n",
        "p1.insertar(9,0)\n",
        "p1.mostrar()\n",
        "p2.insertar(12,3)\n",
        "p2.insertar(8,2)\n",
        "p2.insertar(-2,1)\n",
        "p2.insertar(78,0)\n",
        "p2.mostrar()\n",
        "p3=p1.sumar_varios_terminos(p2)\n",
        "print(\" resultado\")\n",
        "p3.mostrar()"
      ],
      "metadata": {
        "colab": {
          "base_uri": "https://localhost:8080/"
        },
        "id": "DlrJ2KAAoblq",
        "outputId": "9558066f-aaca-4e63-a5ba-84f557c1fc2e"
      },
      "execution_count": 46,
      "outputs": [
        {
          "output_type": "stream",
          "name": "stdout",
          "text": [
            "2 X^3\n",
            "-4 X^2\n",
            "5 X^1\n",
            "9 X^0\n",
            "12 X^3\n",
            "8 X^2\n",
            "-2 X^1\n",
            "78 X^0\n",
            " resultado\n",
            "14 X^3\n",
            "4 X^2\n",
            "3 X^1\n",
            "87 X^0\n"
          ]
        }
      ]
    },
    {
      "cell_type": "code",
      "source": [
        "# Sumar dos que no tengan misma cantida de terminos. supongo que estan ordenados"
      ],
      "metadata": {
        "id": "eGJ5yIQswh4U"
      },
      "execution_count": null,
      "outputs": []
    }
  ]
}